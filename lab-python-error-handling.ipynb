{
 "cells": [
  {
   "cell_type": "markdown",
   "id": "25d7736c-ba17-4aff-b6bb-66eba20fbf4e",
   "metadata": {},
   "source": [
    "# Lab | Error Handling"
   ]
  },
  {
   "cell_type": "markdown",
   "id": "bc99b386-7508-47a0-bcdb-d969deaf6c8b",
   "metadata": {},
   "source": [
    "## Exercise: Error Handling for Managing Customer Orders\n",
    "\n",
    "The implementation of your code for managing customer orders assumes that the user will always enter a valid input. \n",
    "\n",
    "For example, we could modify the `initialize_inventory` function to include error handling.\n",
    "   - If the user enters an invalid quantity (e.g., a negative value or a non-numeric value), display an error message and ask them to re-enter the quantity for that product.\n",
    "   - Use a try-except block to handle the error and continue prompting the user until a valid quantity is entered.\n",
    "\n",
    "```python\n",
    "# Step 1: Define the function for initializing the inventory with error handling\n",
    "def initialize_inventory(products):\n",
    "    inventory = {}\n",
    "    for product in products:\n",
    "        valid_quantity = False\n",
    "        while not valid_quantity:\n",
    "            try:\n",
    "                quantity = int(input(f\"Enter the quantity of {product}s available: \"))\n",
    "                if quantity < 0:\n",
    "                    raise ValueError(\"Invalid quantity! Please enter a non-negative value.\")\n",
    "                valid_quantity = True\n",
    "            except ValueError as error:\n",
    "                print(f\"Error: {error}\")\n",
    "        inventory[product] = quantity\n",
    "    return inventory\n",
    "\n",
    "# Or, in another way:\n",
    "\n",
    "def initialize_inventory(products):\n",
    "    inventory = {}\n",
    "    for product in products:\n",
    "        valid_input = False\n",
    "        while not valid_input:\n",
    "            try:\n",
    "                quantity = int(input(f\"Enter the quantity of {product}s available: \"))\n",
    "                if quantity >= 0:\n",
    "                    inventory[product] = quantity\n",
    "                    valid_input = True\n",
    "                else:\n",
    "                    print(\"Quantity cannot be negative. Please enter a valid quantity.\")\n",
    "            except ValueError:\n",
    "                print(\"Invalid input. Please enter a valid quantity.\")\n",
    "    return inventory\n",
    "```\n",
    "\n",
    "Let's enhance your code by implementing error handling to handle invalid inputs.\n",
    "\n",
    "Follow the steps below to complete the exercise:\n",
    "\n",
    "2. Modify the `calculate_total_price` function to include error handling.\n",
    "   - If the user enters an invalid price (e.g., a negative value or a non-numeric value), display an error message and ask them to re-enter the price for that product.\n",
    "   - Use a try-except block to handle the error and continue prompting the user until a valid price is entered.\n",
    "\n",
    "3. Modify the `get_customer_orders` function to include error handling.\n",
    "   - If the user enters an invalid number of orders (e.g., a negative value or a non-numeric value), display an error message and ask them to re-enter the number of orders.\n",
    "   - If the user enters an invalid product name (e.g., a product name that is not in the inventory), or that doesn't have stock available, display an error message and ask them to re-enter the product name. *Hint: you will need to pass inventory as a parameter*\n",
    "   - Use a try-except block to handle the error and continue prompting the user until a valid product name is entered.\n",
    "\n",
    "4. Test your code by running the program and deliberately entering invalid quantities and product names. Make sure the error handling mechanism works as expected.\n"
   ]
  },
  {
   "cell_type": "code",
   "execution_count": 5,
   "id": "fda1fcba",
   "metadata": {},
   "outputs": [],
   "source": [
    "products = [\"t-shirt\", \"mug\", \"hat\", \"book\", \"keychain\"]"
   ]
  },
  {
   "cell_type": "code",
   "execution_count": 6,
   "id": "5476a698",
   "metadata": {},
   "outputs": [],
   "source": [
    "#1\n",
    "def initialize_inventory(products):\n",
    "    inventory = {}\n",
    "    for product in products:\n",
    "        valid_quantity = False\n",
    "        while not valid_quantity:\n",
    "            try:\n",
    "                quantity = int(input(f\"Enter the quantity of {product}s available: \"))\n",
    "                if quantity < 0:\n",
    "                    raise ValueError(\"Invalid quantity! Please enter a non-negative value.\")\n",
    "                valid_quantity = True\n",
    "            except ValueError as error:\n",
    "                print(f\"Error: {error}\")\n",
    "        inventory[product] = quantity\n",
    "    return inventory"
   ]
  },
  {
   "cell_type": "code",
   "execution_count": 7,
   "id": "b109c612",
   "metadata": {},
   "outputs": [
    {
     "name": "stdout",
     "output_type": "stream",
     "text": [
      "{'t-shirt': 5, 'mug': 6, 'hat': 7, 'book': 8, 'keychain': 9}\n"
     ]
    }
   ],
   "source": [
    "inventory=initialize_inventory(products)\n",
    "\n",
    "print(inventory)"
   ]
  },
  {
   "cell_type": "code",
   "execution_count": 17,
   "id": "f028d45d",
   "metadata": {},
   "outputs": [
    {
     "name": "stdout",
     "output_type": "stream",
     "text": [
      "The total price of the customer orders is: 18.00\n"
     ]
    },
    {
     "data": {
      "text/plain": [
       "18.0"
      ]
     },
     "execution_count": 17,
     "metadata": {},
     "output_type": "execute_result"
    }
   ],
   "source": [
    "#2\n",
    "def calculate_total_price(customer_orders):\n",
    "    total_price = 0  # Initialize total price to 0\n",
    "    for product in customer_orders:\n",
    "        while True:\n",
    "            try:\n",
    "                # Prompt the user to enter the price for the product\n",
    "                price = float(input(f\"Enter the price for '{product}': \"))\n",
    "                if price < 0:\n",
    "                    # Raise an error if the price is negative\n",
    "                    raise ValueError(\"Price cannot be negative.\")\n",
    "                # Add the valid price to the total price\n",
    "                total_price += price\n",
    "                break\n",
    "            except ValueError as e:\n",
    "                # Handle invalid input and display an error message\n",
    "                print(f\"Invalid input: {e}. Please enter a valid price.\")\n",
    "    # Print the total price of all customer orders\n",
    "    print(f\"The total price of the customer orders is: {total_price:.2f}\")\n",
    "    return total_price  # Return the total price\n",
    "\n",
    "# Example usage\n",
    "customer_orders = {\"t-shirt\", \"mug\", \"hat\"}\n",
    "calculate_total_price(customer_orders)\n"
   ]
  },
  {
   "cell_type": "code",
   "execution_count": 16,
   "id": "7236c21b",
   "metadata": {},
   "outputs": [
    {
     "name": "stdout",
     "output_type": "stream",
     "text": [
      "Current inventory:\n",
      "t-shirt: 5\n",
      "mug: 6\n",
      "hat: 7\n",
      "book: 8\n",
      "keychain: 9\n",
      "Invalid input: Product 'book' already ordered. Products left to order: {'keychain', 'hat', 't-shirt'}. Please enter a valid product name.\n",
      "Invalid input: Product 'mug' already ordered. Products left to order: {'keychain', 'hat', 't-shirt'}. Please enter a valid product name.\n",
      "The user wants to order these products: {'mug', 'book', 'hat'}\n",
      "Customer orders: {'mug', 'book', 'hat'}\n"
     ]
    }
   ],
   "source": [
    "#3\n",
    "def get_customer_orders(inventory):\n",
    "    while True:\n",
    "        try:\n",
    "            # Ask the user for the number of orders\n",
    "            num_orders = int(input(\"How many products do you want to order? \"))\n",
    "            if num_orders < 0:\n",
    "                raise ValueError(\"Number of orders cannot be negative.\")\n",
    "            break\n",
    "        except ValueError as e:\n",
    "            # Handle invalid input and display an error message\n",
    "            print(f\"Invalid input: {e}. Please enter a valid number of orders.\")\n",
    "\n",
    "    customer_orders = set()\n",
    "    \n",
    "    print(\"Current inventory:\")\n",
    "    for product, quantity in inventory.items():\n",
    "        print(f\"{product}: {quantity}\")\n",
    "\n",
    "    for i in range(num_orders):\n",
    "        while True:\n",
    "            try:\n",
    "                # Prompt the user to enter the product name\n",
    "                product_name = input(f\"Enter the name of product {i + 1}: \").lower()\n",
    "                if product_name not in inventory:\n",
    "                    # Raise an error if the product name is not in the inventory\n",
    "                    raise ValueError(\"Product not found in inventory.\")\n",
    "                if inventory[product_name] <= 0:\n",
    "                    # Raise an error if the product is out of stock\n",
    "                    raise ValueError(\"Product is out of stock.\")\n",
    "                if product_name in customer_orders:\n",
    "                    # Raise an error if the product is already in the customer orders\n",
    "                    raise ValueError(f\"Product '{product_name}' already ordered. Products left to order: {set(inventory.keys()) - customer_orders}\")\n",
    "                customer_orders.add(product_name)\n",
    "                break\n",
    "            except ValueError as e:\n",
    "                # Handle invalid input and display an error message\n",
    "                print(f\"Invalid input: {e}. Please enter a valid product name.\")\n",
    "\n",
    "    # Notify user of the products ordered\n",
    "    print(f\"The user wants to order these products: {customer_orders}\")\n",
    "\n",
    "    return customer_orders  # Return the set of customer orders\n",
    "\n",
    "# Example usage\n",
    "customer_orders = get_customer_orders(inventory)\n",
    "print(\"Customer orders:\", customer_orders)\n"
   ]
  }
 ],
 "metadata": {
  "kernelspec": {
   "display_name": "Python 3",
   "language": "python",
   "name": "python3"
  },
  "language_info": {
   "codemirror_mode": {
    "name": "ipython",
    "version": 3
   },
   "file_extension": ".py",
   "mimetype": "text/x-python",
   "name": "python",
   "nbconvert_exporter": "python",
   "pygments_lexer": "ipython3",
   "version": "3.12.6"
  }
 },
 "nbformat": 4,
 "nbformat_minor": 5
}
